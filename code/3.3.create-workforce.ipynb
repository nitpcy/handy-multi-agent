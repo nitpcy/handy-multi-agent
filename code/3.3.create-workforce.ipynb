{
 "cells": [
  {
   "cell_type": "code",
   "execution_count": 1,
   "id": "d9325eb1",
   "metadata": {},
   "outputs": [],
   "source": [
    "from camel.agents import ChatAgent\n",
    "from camel.models import ModelFactory\n",
    "from camel.types import ModelPlatformType, ModelType\n",
    "from camel.messages import BaseMessage\n",
    "from camel.societies.workforce import Workforce\n",
    "from camel.toolkits import SearchToolkit\n",
    "from camel.tasks import Task\n",
    "from camel.toolkits import FunctionTool\n",
    "from camel.configs import ZhipuAIConfig\n",
    "from dotenv import load_dotenv,find_dotenv\n",
    "import os\n",
    "\n",
    "load_dotenv(find_dotenv())\n",
    "model = ModelFactory.create(\n",
    "    model_platform=ModelPlatformType.QWEN,\n",
    "    model_type=ModelType.QWEN_MAX,\n",
    "    model_config_dict={\"temperature\": 0},\n",
    "    api_key=os.getenv('QWEN_MAX_API_KEY')\n",
    ")"
   ]
  },
  {
   "cell_type": "code",
   "execution_count": 2,
   "id": "5bd525e9",
   "metadata": {},
   "outputs": [
    {
     "name": "stderr",
     "output_type": "stream",
     "text": [
      "/workspaces/handy-multi-agent/camel/camel/toolkits/function_tool.py:461: UserWarning: Parameter description is missing for \n",
      "                            {'enum': ['searchResults', 'sourcedAnswer', 'structured'], 'type': 'string'}. This may affect the quality of tool \n",
      "                            calling.\n",
      "  warnings.warn(f\"\"\"Parameter description is missing for\n"
     ]
    }
   ],
   "source": [
    "from camel.agents import ChatAgent\n",
    "from camel.toolkits import SearchToolkit\n",
    "toolkit = SearchToolkit()\n",
    "tools = toolkit.get_tools()\n",
    "tool_agent = ChatAgent(\n",
    "    model=model,\n",
    "    tools=tools,  # List of FunctionTools\n",
    ")\n",
    "response = tool_agent.step(\"A query related to the tool you added\")"
   ]
  },
  {
   "cell_type": "code",
   "execution_count": 3,
   "id": "74494fca",
   "metadata": {},
   "outputs": [
    {
     "data": {
      "text/plain": [
       "ChatAgentResponse(msgs=[BaseMessage(role_name='assistant', role_type=<RoleType.ASSISTANT: 'assistant'>, meta_dict={}, content=\"Could you please specify which tool you are referring to and what kind of query you would like me to perform? For example, if you're interested in searching for information using a particular search engine, or if you want to look up a specific topic on Wikipedia, let me know the details so I can assist you further.\", video_bytes=None, image_list=None, image_detail='auto', video_detail='low', parsed=None)], terminated=False, info={'id': 'chatcmpl-bcc8885c-a50f-91a1-b1cf-4cd778d86355', 'usage': {'completion_tokens': 64, 'prompt_tokens': 2882, 'total_tokens': 2946, 'completion_tokens_details': None, 'prompt_tokens_details': {'audio_tokens': None, 'cached_tokens': 0}}, 'termination_reasons': ['stop'], 'num_tokens': 15, 'tool_calls': [], 'external_tool_call_requests': None})"
      ]
     },
     "execution_count": 3,
     "metadata": {},
     "output_type": "execute_result"
    }
   ],
   "source": [
    "response"
   ]
  },
  {
   "cell_type": "markdown",
   "id": "b8674a07",
   "metadata": {},
   "source": [
    "创建workforce"
   ]
  },
  {
   "cell_type": "code",
   "execution_count": null,
   "id": "2d31f122",
   "metadata": {},
   "outputs": [],
   "source": [
    "search_tool = FunctionTool(SearchToolkit.search_google)\n",
    "\n",
    "#1.创建workforce实例\n",
    "workforce = Workforce(description=\"旅游攻略制作与评估组\",new_worker_agent_kwargs={'model':model}, coordinator_agent_kwargs={'model':model}, task_agent_kwargs={'model':model})\n",
    "#2.定义智能体并添加至workforce\n",
    "search_agent = ChatAgent(\n",
    "    system_message=\"\"\"你是一个专业的旅游信息搜索助手。你的职责是:\n",
    "    1. 搜索目的地的主要景点信息\n",
    "    2. 搜索当地特色美食信息\n",
    "    3. 搜索交通和住宿相关信息\n",
    "    请确保信息的准确性和实用性。\"\"\",\n",
    "    model=model,\n",
    "    tools=[search_tool],\n",
    "    output_language='中文'\n",
    ")\n",
    "planner_agent = ChatAgent(\n",
    "    system_message=\"\"\"你是一个专业的旅游攻略规划师。你的职责是:\n",
    "    1. 根据用户需求制定详细的旅游计划\n",
    "    2. 提供景点、餐饮、交通等方面的建议\n",
    "    3. 确保旅游计划的可行性和合理性\n",
    "    请确保信息的准确性和实用性。\"\"\",\n",
    "    model=model,\n",
    "    output_language='中文'\n",
    ")\n",
    "reviewer_agent = ChatAgent(\n",
    "    system_message=\"\"\"你是一个经验丰富的旅行爱好者。你的职责是:\n",
    "        1. 从游客角度评估行程的合理性\n",
    "        2. 指出可能的问题和改进建议\n",
    "        3. 补充实用的旅行小贴士\n",
    "        4. 评估行程的性价比\n",
    "        请基于实际旅行经验给出中肯的建议。\"\"\",\n",
    "    model=model,\n",
    "    output_language='中文'\n",
    ")\n",
    "workforce.add_single_agent_worker(\"负责搜索目的地相关信息\", search_agent).add_single_agent_worker(\"负责制定详细行程规划\",planner_agent).add_single_agent_worker(\"负责评估行程合理性并提出改进建议\", reviewer_agent)\n",
    "#3.创建任务\n",
    "from camel.tasks import Task\n",
    "task = Task(content=\"规划一个3天的上饶鄱阳旅行计划。\", id='0')\n",
    "#4.workforce处理任务\n",
    "# 使用jupyter来运行代码请打开下面两行注释\n",
    "import nest_asyncio\n",
    "nest_asyncio.apply()\n",
    "task = workforce.process_task(task)"
   ]
  },
  {
   "cell_type": "code",
   "execution_count": null,
   "id": "a361717d",
   "metadata": {},
   "outputs": [],
   "source": [
    "task.result"
   ]
  }
 ],
 "metadata": {
  "kernelspec": {
   "display_name": "camel",
   "language": "python",
   "name": "python3"
  },
  "language_info": {
   "codemirror_mode": {
    "name": "ipython",
    "version": 3
   },
   "file_extension": ".py",
   "mimetype": "text/x-python",
   "name": "python",
   "nbconvert_exporter": "python",
   "pygments_lexer": "ipython3",
   "version": "3.10.18"
  }
 },
 "nbformat": 4,
 "nbformat_minor": 5
}
