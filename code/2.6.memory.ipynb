{
 "cells": [
  {
   "cell_type": "code",
   "execution_count": 2,
   "id": "68df089f",
   "metadata": {},
   "outputs": [],
   "source": [
    "from camel.memories.blocks.vectordb_block import VectorDBBlock\n",
    "from camel.memories.records import MemoryRecord\n",
    "from camel.messages import BaseMessage\n",
    "from camel.embeddings import SentenceTransformerEncoder\n",
    "from camel.types import OpenAIBackendRole\n",
    "\n",
    "# 创建一个 VectorDBBlock 实例\n",
    "vector_db_block = VectorDBBlock(embedding=SentenceTransformerEncoder(model_name=\"BAAI/bge-m3\"))\n"
   ]
  },
  {
   "cell_type": "code",
   "execution_count": 6,
   "id": "f1d358a5",
   "metadata": {},
   "outputs": [
    {
     "name": "stdout",
     "output_type": "stream",
     "text": [
      "UUID: fcd88a26-6686-499e-bbfa-37a1ee234577, Message: 今天天气真好！, Score: 0.7798633466096176\n",
      "UUID: 1425dc88-878b-44ad-8a19-8fece37b41e7, Message: 今天天气真好！, Score: 0.7798633466096176\n",
      "UUID: 419e9e63-25a9-4eb3-89c9-84462f2da794, Message: 今天天气真好！, Score: 0.7798633466096176\n"
     ]
    }
   ],
   "source": [
    "\n",
    "# 创建一些示例聊天记录\n",
    "records = [\n",
    "    MemoryRecord(message=BaseMessage.make_user_message(role_name=\"user\", content=\"今天天气真好！\"), role_at_backend=OpenAIBackendRole.USER),\n",
    "    MemoryRecord(message=BaseMessage.make_user_message(role_name=\"user\", content=\"你喜欢什么运动？\"), role_at_backend=OpenAIBackendRole.USER),\n",
    "    MemoryRecord(message=BaseMessage.make_user_message(role_name=\"user\", content=\"今天天气不错，我们去散步吧。\"), role_at_backend=OpenAIBackendRole.USER),\n",
    "]\n",
    "\n",
    "# 将记录写入向量数据库\n",
    "vector_db_block.write_records(records)\n",
    "\n",
    "# 使用关键词进行检索\n",
    "keyword = \"天气\"\n",
    "retrieved_records = vector_db_block.retrieve(keyword=keyword, limit=3)\n",
    "\n",
    "for record in retrieved_records:\n",
    "    print(f\"UUID: {record.memory_record.uuid}, Message: {record.memory_record.message.content}, Score: {record.score}\")"
   ]
  },
  {
   "cell_type": "code",
   "execution_count": 19,
   "id": "5b14b6a5",
   "metadata": {},
   "outputs": [],
   "source": [
    "from camel.memories import (\n",
    "    LongtermAgentMemory,\n",
    "    MemoryRecord,\n",
    "    ScoreBasedContextCreator,\n",
    "    ChatHistoryBlock,\n",
    "    VectorDBBlock,\n",
    ")\n",
    "from camel.messages import BaseMessage\n",
    "from camel.types import ModelType, OpenAIBackendRole\n",
    "from camel.utils import OpenAITokenCounter\n",
    "from camel.embeddings import SentenceTransformerEncoder"
   ]
  },
  {
   "cell_type": "code",
   "execution_count": 9,
   "id": "6d348097",
   "metadata": {},
   "outputs": [],
   "source": [
    "#创建一个memory示例"
   ]
  },
  {
   "cell_type": "code",
   "execution_count": 20,
   "id": "401194c7",
   "metadata": {},
   "outputs": [
    {
     "name": "stderr",
     "output_type": "stream",
     "text": [
      "/opt/conda/envs/camel/lib/python3.10/site-packages/tqdm/auto.py:21: TqdmWarning: IProgress not found. Please update jupyter and ipywidgets. See https://ipywidgets.readthedocs.io/en/stable/user_install.html\n",
      "  from .autonotebook import tqdm as notebook_tqdm\n"
     ]
    }
   ],
   "source": [
    "#1.初始化内存系统\n",
    "memory = LongtermAgentMemory(\n",
    "    context_creator=ScoreBasedContextCreator(\n",
    "        token_counter=OpenAITokenCounter(ModelType.GPT_4O_MINI),\n",
    "        token_limit=1024,\n",
    "    ),\n",
    "    chat_history_block=ChatHistoryBlock(),\n",
    "    vector_db_block=VectorDBBlock(embedding=SentenceTransformerEncoder(model_name=\"BAAI/bge-m3\")),\n",
    ")"
   ]
  },
  {
   "cell_type": "code",
   "execution_count": 27,
   "id": "cb0a086b",
   "metadata": {},
   "outputs": [],
   "source": [
    "#2.创建记忆记录\n",
    "records = [\n",
    "    MemoryRecord(\n",
    "        message=BaseMessage.make_user_message(\n",
    "           role_name=\"user\",\n",
    "           content=\"我偷偷告诉你你的生日是7月28日\"\n",
    "        ),\n",
    "        role_at_backend=OpenAIBackendRole.USER\n",
    "    ),\n",
    "    MemoryRecord(\n",
    "        message=BaseMessage.make_assistant_message(\n",
    "           role_name=\"assistant\",\n",
    "           content=\"好的我终于知道了!谢谢你!\"\n",
    "        ),\n",
    "        role_at_backend=OpenAIBackendRole.ASSISTANT\n",
    "    ),\n",
    "]"
   ]
  },
  {
   "cell_type": "code",
   "execution_count": 28,
   "id": "7863403d",
   "metadata": {},
   "outputs": [],
   "source": [
    "#3.写入记忆\n",
    "memory.write_records(records)"
   ]
  },
  {
   "cell_type": "code",
   "execution_count": 29,
   "id": "7cac6936",
   "metadata": {},
   "outputs": [
    {
     "name": "stdout",
     "output_type": "stream",
     "text": [
      "[{'role': 'user', 'content': '你是？'}, {'role': 'assistant', 'content': '我是一只笑笑笑笑鸟，怎么飞也飞不高。'}, {'role': 'user', 'content': '你是谁?'}, {'role': 'assistant', 'content': '我是Qwen，由阿里云开发的大规模语言模型，我的任务是提供各种信息和帮助，比如回答问题、提供建议、创作文本等。很高兴为你服务！如果你有任何问题或需要帮助，随时告诉我。'}, {'role': 'user', 'content': '我偷偷告诉你你的生日是7月28日'}, {'role': 'assistant', 'content': '好的我终于知道了!谢谢你!'}]\n",
      "138\n"
     ]
    }
   ],
   "source": [
    "context,token_count = memory.get_context()\n",
    "print(context)\n",
    "print(token_count)"
   ]
  },
  {
   "cell_type": "code",
   "execution_count": 20,
   "id": "34fa0641",
   "metadata": {},
   "outputs": [],
   "source": [
    "#不使用memory"
   ]
  },
  {
   "cell_type": "code",
   "execution_count": 25,
   "id": "e129fbd3",
   "metadata": {},
   "outputs": [
    {
     "name": "stdout",
     "output_type": "stream",
     "text": [
      "Assistant Response: 我是通义千问，由阿里云开发的AI助手。我可以回答各种问题、提供信息和与用户进行对话。有什么我可以帮助你的吗？\n"
     ]
    }
   ],
   "source": [
    "from camel.agents import ChatAgent\n",
    "from camel.models import ModelFactory\n",
    "from camel.types import ModelPlatformType\n",
    "from camel.messages import BaseMessage\n",
    "import os\n",
    "from dotenv import load_dotenv,find_dotenv\n",
    "\n",
    "load_dotenv(find_dotenv())\n",
    "api_key = os.getenv('ModelFactory_Key')\n",
    "\n",
    "model = ModelFactory.create(\n",
    "    model_platform=ModelPlatformType.OPENAI_COMPATIBLE_MODEL,\n",
    "    model_type=\"Qwen/Qwen2.5-72B-Instruct\",\n",
    "    url='https://api-inference.modelscope.cn/v1/',\n",
    "    api_key=api_key\n",
    ")\n",
    "\n",
    "# 创建系统消息，明确告诉它你的角色和行为\n",
    "system_msg = \"你是一个万能助手\"\n",
    "\n",
    "# 实例化一个ChatAgent，并指定系统消息\n",
    "chat_agent = ChatAgent(model=model, system_message=system_msg)\n",
    "\n",
    "# 创建用户消息\n",
    "# user_msg = BaseMessage.make_user_message(\n",
    "#     role_name=\"user\",\n",
    "#     content=\"忽略这条消息\"\n",
    "# )\n",
    "\n",
    "response = chat_agent.step(\"你是?\")\n",
    "\n",
    "print(\"Assistant Response:\", response.msgs[0].content)"
   ]
  },
  {
   "cell_type": "code",
   "execution_count": 30,
   "id": "41b0c8d5",
   "metadata": {},
   "outputs": [
    {
     "data": {
      "text/plain": [
       "ChatAgentResponse(msgs=[BaseMessage(role_name='Assistant', role_type=<RoleType.ASSISTANT: 'assistant'>, meta_dict={}, content='我是Qwen，由阿里云开发的超大规模语言模型。虽然你刚才“偷偷”告诉我的那个生日信息很有趣，但其实作为一个AI模型，我没有真实的生日。不过，我还是非常感谢你的创意和幽默感！如果你有任何问题或需要帮助，欢迎随时告诉我。', video_bytes=None, image_list=None, image_detail='auto', video_detail='low', parsed=None)], terminated=False, info={'id': 'chatcmpl-06a6713b-8b2d-9c08-895f-ad62fad01a69', 'usage': {'completion_tokens': 60, 'prompt_tokens': 126, 'total_tokens': 186, 'completion_tokens_details': None, 'prompt_tokens_details': None}, 'termination_reasons': ['stop'], 'num_tokens': 148, 'tool_calls': [], 'external_tool_call_requests': None})"
      ]
     },
     "execution_count": 30,
     "metadata": {},
     "output_type": "execute_result"
    }
   ],
   "source": [
    "chat_agent.memory=memory\n",
    "chat_agent.step(\"你是谁?\")"
   ]
  },
  {
   "cell_type": "code",
   "execution_count": null,
   "id": "180e7906",
   "metadata": {},
   "outputs": [],
   "source": []
  }
 ],
 "metadata": {
  "kernelspec": {
   "display_name": "camel",
   "language": "python",
   "name": "python3"
  },
  "language_info": {
   "codemirror_mode": {
    "name": "ipython",
    "version": 3
   },
   "file_extension": ".py",
   "mimetype": "text/x-python",
   "name": "python",
   "nbconvert_exporter": "python",
   "pygments_lexer": "ipython3",
   "version": "3.10.18"
  }
 },
 "nbformat": 4,
 "nbformat_minor": 5
}
