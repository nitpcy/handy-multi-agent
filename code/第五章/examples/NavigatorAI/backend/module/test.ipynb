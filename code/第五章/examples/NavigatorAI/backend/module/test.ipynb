{
 "cells": [
  {
   "cell_type": "code",
   "execution_count": 6,
   "metadata": {},
   "outputs": [
    {
     "name": "stdout",
     "output_type": "stream",
     "text": [
      "{'city': '鄱阳', 'days': None, 'need_more_info': True, 'query': '我想去鄱阳玩', 'response': 'Navigator还不知道您打算去玩几天呢，请补充你计划的行程天数~'}\n"
     ]
    }
   ],
   "source": [
    "import requests\n",
    "\n",
    "url = \"http://localhost:5002/extract_travel_info\"\n",
    "data = {\"query\": \"我想去鄱阳玩\"}\n",
    "response = requests.post(url, json=data)\n",
    "print(response.json())"
   ]
  },
  {
   "cell_type": "code",
   "execution_count": 12,
   "metadata": {},
   "outputs": [
    {
     "name": "stdout",
     "output_type": "stream",
     "text": [
      "获取到的旅游计划：\n",
      "{\n",
      "  \"data\": {\n",
      "    \"base路线\": {\n",
      "      \"base_guide\": \"上饶鄱阳3天旅游攻略\\n\\n【行程概览】\\n- 第1天：婺源篁岭 → 李坑景区 → 老闵烤鸡腿品尝\\n- 第2天：三清山观光（日出和云海）→ 婺源博物馆参观\\n- 第3天：鄱阳湖游览 → 龟峰自然风景感受\\n\\n【行程详细】\\n- 第1天：婺源篁岭出发，这里是一处著名的古村，以独特的徽派建筑和春天的油菜花而闻名。下午前往李坑景区，体验传统村落的生活氛围，傍晚时分在李坑品尝上饶烤鸡腿，这是一道当地的特色美食，外皮酥脆，肉质鲜嫩。\\n- 第2天：早上前往三清山，观赏壮丽的日出和变幻莫测的云海，体验道教名山的独特魅力。下午返回婺源，参观婺源博物馆，了解当地的历史文化。\\n- 第3天：全天游览鄱阳湖，感受中国第一大淡水湖的浩瀚和美丽。下午前往龟峰，探索大自然的鬼斧神工，最后返回住宿地点结束愉快的旅程。\\n\\n【美食推荐】\\n- 上饶烤鸡腿：必尝！外皮酥脆，肉质鲜嫩，老闵烤鸡腿是一家不错的店。\\n- 鄱阳湖鲜：推荐尝试湖口糟鱼，感受鄱阳湖的美味。\\n\\n【小贴士】\\n- 最佳季节：\\n  - 3-4月：婺源油菜花盛开（推荐江岭）\\n  - 11月-次年1月：冬季旅游，体验不同的自然风光\\n- 行李建议：带上舒适的鞋子，以及适当的防晒措施。春季和秋季温差较大，建议携带薄外套。\\n- 交通提示：三清山和婺源等地交通便捷，可选择自驾游或公共交通。\"\n",
      "    },\n",
      "    \"city\": \"上饶鄱阳\",\n",
      "    \"days\": 3,\n",
      "    \"景点\": [\n",
      "      {\n",
      "        \"describe\": \"位于江西省东北部的鄱阳县境内，占地面积36285公顷，分布范围广泛，地理构造独特，属于国家4A级景区。\",\n",
      "        \"name\": \"鄱阳湖国家湿地公园\",\n",
      "        \"图片url\": \"https://omo-oss-image.thefastimg.com/portal-saas/new2022081216381638273/cms/image/a03ee9df-7d85-494f-a8f0-97cde458c9ea.jpg\"\n",
      "      },\n",
      "      {\n",
      "        \"describe\": \"上饶市网红景点之一，风景优美，适合拍照打卡。\",\n",
      "        \"name\": \"望仙谷\",\n",
      "        \"图片url\": \"https://gd-hbimg.huaban.com/3682349276a5b3915fb19a0a875c4865bdddaa4a147e8f-xjD40C_fw658\"\n",
      "      },\n",
      "      {\n",
      "        \"describe\": \"道教名山，云海缭绕、奇峰怪石，宛如人间仙境。\",\n",
      "        \"name\": \"三清山\",\n",
      "        \"图片url\": \"http://www.sqsfjq.com/Data/Uploads/image/news/2022-10-26/6358b09089efa.jpeg\"\n",
      "      },\n",
      "      {\n",
      "        \"describe\": \"著名旅游景点，以丰富的人文历史和自然风光著称。\",\n",
      "        \"name\": \"婺源篁岭景区\",\n",
      "        \"图片url\": \"https://hellorfimg.zcool.cn/provider_image/large/2237545267.jpg\"\n",
      "      },\n",
      "      {\n",
      "        \"describe\": \"上饶著名景点，保留了较为完整的古村落风貌。\",\n",
      "        \"name\": \"李坑景区\",\n",
      "        \"图片url\": \"http://dimg08.c-ctrip.com/images/100k0r000000h19y35048_R_800_10000_Q90.jpg?proc=autoorient\"\n",
      "      },\n",
      "      {\n",
      "        \"describe\": \"婺源的一处著名景点，以春季油菜花和秋季晒秋习俗闻名。\",\n",
      "        \"name\": \"婺源篁嶺\",\n",
      "        \"图片url\": \"https://hellorfimg.zcool.cn/provider_image/large/2237718418.jpg\"\n",
      "      },\n",
      "      {\n",
      "        \"describe\": \"中国最大的淡水湖，地理位置独特，生态系统丰富。\",\n",
      "        \"name\": \"鄱阳湖\",\n",
      "        \"图片url\": \"https://so1.360tres.com/t016002ff9466d8816b.jpg\"\n",
      "      },\n",
      "      {\n",
      "        \"describe\": \"江西省下辖地级市，历史文化和自然风光丰富。\",\n",
      "        \"name\": \"九江市\",\n",
      "        \"图片url\": \"https://so1.360tres.com/t0180da5ee6a3017947.jpg\"\n",
      "      },\n",
      "      {\n",
      "        \"describe\": \"著名的风景名胜区，以秀美的山水和历史文化闻名。\",\n",
      "        \"name\": \"庐山\",\n",
      "        \"图片url\": \"http://d.51240.com/map/weixing/10/pn/poyangzhen.jpg\"\n",
      "      },\n",
      "      {\n",
      "        \"describe\": \"位于江西省九江市庐山市，是一处集山水风光和休闲度假为一体的综合旅游区。\",\n",
      "        \"name\": \"庐山西海风景名胜区\",\n",
      "        \"图片url\": \"https://pic2.zhimg.com/v2-3d8c9e9e3ecc087b0f0c6f53d0e26541_r.jpg\"\n",
      "      }\n",
      "    ],\n",
      "    \"美食\": [\n",
      "      {\n",
      "        \"describe\": \"外皮酥脆肉質鮮嫩，是上饒必吃美食。\",\n",
      "        \"name\": \"上饶烤鸡腿\",\n",
      "        \"图片url\": \"https://tr-osdcp.qunarzz.com/tr-osd-tr-manager/img/47c3c896b411b363cd7c059cccb76511.jpg_1000x1000x90_bbdd4c25.jpg\"\n",
      "      },\n",
      "      {\n",
      "        \"describe\": \"鄱阳湖特色美食，鲜美可口。\",\n",
      "        \"name\": \"湖口糟鱼鄱阳湖鲜\",\n",
      "        \"图片url\": \"https://so1.360tres.com/t016de331d5bea3f19f.jpg\"\n",
      "      },\n",
      "      {\n",
      "        \"describe\": \"Q弹多吃法，现蒸现吃或干炒都美味。\",\n",
      "        \"name\": \"特色米制品\",\n",
      "        \"图片url\": \"https://tr-osdcp.qunarzz.com/tr-osd-tr-manager/img/47c3c896b411b363cd7c059cccb76511.jpg_1000x1000x90_bbdd4c25.jpg\"\n",
      "      }\n",
      "    ],\n",
      "    \"美食店铺\": [\n",
      "      {\n",
      "        \"describe\": \"推荐的烤鸡腿店铺，味道极佳。\",\n",
      "        \"name\": \"老闵烤鸡腿\",\n",
      "        \"图片url\": \"https://img1.qunarzz.com/travel/poi/1511/90/b21f58971388b1f7.jpg_r_640x640_44675099.jpg\"\n",
      "      }\n",
      "    ]\n",
      "  },\n",
      "  \"status\": \"success\"\n",
      "}\n"
     ]
    }
   ],
   "source": [
    "import requests\n",
    "import json\n",
    "\n",
    "# API端点\n",
    "url = \"http://localhost:5002/get_travel_plan\"\n",
    "\n",
    "# 请求数据\n",
    "data = {\n",
    "    \"city\": \"上饶鄱阳\",\n",
    "    \"days\": 3\n",
    "}\n",
    "\n",
    "# 发送POST请求\n",
    "try:\n",
    "    response = requests.post(url, json=data)\n",
    "    \n",
    "    # 检查响应状态\n",
    "    if response.status_code == 200:\n",
    "        result = response.json()\n",
    "        print(\"获取到的旅游计划：\")\n",
    "        print(json.dumps(result, ensure_ascii=False, indent=2))\n",
    "    else:\n",
    "        print(f\"请求失败: {response.status_code}\")\n",
    "        print(f\"错误信息: {response.text}\")\n",
    "        \n",
    "except requests.exceptions.RequestException as e:\n",
    "    print(f\"发送请求时发生错误: {e}\")"
   ]
  },
  {
   "cell_type": "code",
   "execution_count": 9,
   "metadata": {},
   "outputs": [
    {
     "name": "stdout",
     "output_type": "stream",
     "text": [
      "--- 正在执行图片搜索 ---\n",
      "<class 'list'>\n",
      "[{'image_url': 'https://p1-tt.byteimg.com/origin/pgc-image/848d0f39633a4d0fa6af559b9e81d594?from=pc',\n",
      "  'result_id': 1,\n",
      "  'source_url': 'http://www.yc6318.cn/sgrz/aritcle7442.html',\n",
      "  'thumbnail_url': 'https://tse4-mm.cn.bing.net/th/id/OIP-C.yX7-SguU35SYjs3ykxCEHgHaEk?w=305&h=188&c=7&r=0&o=7&cb=thfc1&pid=1.7&rm=3',\n",
      "  'title': '探访我国第一大淡水湖——鄱阳湖_国内渔业_西南渔业网 水花鱼 水产养殖专业网 渔业行业门户网 西南水产网 第一线养鱼网 丰祥渔业网 '\n",
      "           '永川水花网 ...'},\n",
      " {'image_url': 'http://moorworld.com/wp-content/uploads/2022/12/2022121504.jpg',\n",
      "  'result_id': 2,\n",
      "  'source_url': 'http://moorworld.com/?p=15712',\n",
      "  'thumbnail_url': 'https://tse2-mm.cn.bing.net/th/id/OIP-C.oWozAEu5kgxlCqQ6kF5rKwHaFj?w=251&h=188&c=7&r=0&o=7&cb=thfc1&pid=1.7&rm=3',\n",
      "  'title': '江西鄱阳湖的大地之树 | Moor世界'}]\n",
      "--- 图片搜索完成 ---\n"
     ]
    }
   ],
   "source": [
    "from camel.toolkits import SearchToolkit\n",
    "from pprint import pprint \n",
    "\n",
    "if __name__ == \"__main__\":\n",
    "\n",
    "    # --- 示例1：使用新增的图片搜索 ---\n",
    "    print(\"--- 正在执行图片搜索 ---\")\n",
    "    image_query = \"鄱阳湖国家湿地公园的图片\"\n",
    "    image_results = SearchToolkit().search_bing_images(query=image_query, max_results=2)\n",
    "    pprint(type(image_results))\n",
    "    pprint(image_results)\n",
    "    print(\"--- 图片搜索完成 ---\")\n",
    "    # print(images[0][\"image_url\"])\n",
    "\n",
    "# import os\n",
    "\n",
    "# current_dir = os.path.dirname(os.path.abspath(__file__))\n",
    "# print(current_dir)"
   ]
  },
  {
   "cell_type": "code",
   "execution_count": 11,
   "metadata": {},
   "outputs": [
    {
     "data": {
      "text/plain": [
       "'https://p1-tt.byteimg.com/origin/pgc-image/848d0f39633a4d0fa6af559b9e81d594?from=pc'"
      ]
     },
     "execution_count": 11,
     "metadata": {},
     "output_type": "execute_result"
    }
   ],
   "source": [
    "image_results[0][\"image_url\"]"
   ]
  },
  {
   "cell_type": "code",
   "execution_count": 5,
   "metadata": {},
   "outputs": [
    {
     "name": "stdout",
     "output_type": "stream",
     "text": [
      "{\n",
      "  \"file_path\": \"code/第五章/examples/NavigatorAI/backend/module/storage/上饶鄱阳3天旅游攻略.html\",\n",
      "  \"html_content\": \"<!DOCTYPE html>\\n<html><head><meta charset='utf-8'><title>旅行推荐</title>\\n<style>\\n\\n    body {\\n       font-family: \\\"Microsoft YaHei\\\", sans-serif;\\n       margin: 20px;\\n       background-color: #f8f8f8;\\n       line-height: 1.6;\\n    }\\n    h1, h2 {\\n       color: #333;\\n    }\\n    .itinerary-text {\\n       background-color: #fff;\\n       padding: 20px;\\n       border-radius: 8px;\\n       box-shadow: 0 2px 5px rgba(0,0,0,0.1);\\n       margin-bottom: 30px;\\n    }\\n    .card-container {\\n       display: flex;\\n       flex-wrap: wrap;\\n       gap: 20px;\\n       margin: 20px 0;\\n    }\\n    .card {\\n       flex: 0 0 calc(300px);\\n       border: 1px solid #ccc;\\n       border-radius: 10px;\\n       overflow: hidden;\\n       box-shadow: 0 2px 5px rgba(0,0,0,0.1);\\n       background-color: #fff;\\n    }\\n    .card-image {\\n       width: 100%;\\n       height: 200px;\\n       overflow: hidden;\\n       background: #f8f8f8;\\n       text-align: center;\\n    }\\n    .card-image img {\\n       max-width: 100%;\\n       max-height: 100%;\\n       object-fit: cover;\\n    }\\n    .card-content {\\n       padding: 10px 15px;\\n    }\\n    .card-content h3 {\\n       margin-top: 0;\\n       margin-bottom: 10px;\\n       font-size: 18px;\\n    }\\n    .card-content p {\\n       margin: 5px 0;\\n    }\\n    .image-center {\\n        text-align: center;\\n        margin: 20px 0;\\n    }\\n    .image-center img {\\n        width: 300px;\\n        height: 200px;\\n        object-fit: cover;\\n    }\\n    \\n</style></head><body>\\n<h1>旅行行程与推荐</h1>\\n<div class=\\\"itinerary-text\\\">\\n<p>根据您提供的信息，我为您规划了以下3天的上饶鄱阳旅行行程。考虑到景点之间的距离和游玩时间，我尽量安排了合理的行程，以确保您能充分体验每个景点的魅力。</p>\\n<p>### Day1:</p>\\n<p>- **早餐**：</p>\\n<p>  - **上饶烤鸡腿**</p>\\n<p>    - 描述：外皮酥脆肉質鮮嫩，是上饒必吃美食。</p>\\n<p>        <div style=\\\"text-align: center;\\\"></p>\\n<p>            <img src=\\\"https://tr-osdcp.qunarzz.com/tr-osd-tr-manager/img/47c3c896b411b363cd7c059cccb76511.jpg_1000x1000x90_bbdd4c25.jpg\\\" alt=\\\"图片\\\" style=\\\"width: 300px; height: 200px;\\\" /></p>\\n<p>        </div></p>\\n<p>- **上午**：</p>\\n<p>  - **鄱阳湖国家湿地公园**</p>\\n<p>    - 描述：位于江西省东北部的鄱阳县境内，占地面积36285公顷，分布范围广泛，地理构造独特，属于国家4A级景区。</p>\\n<p>        <div style=\\\"text-align: center;\\\"></p>\\n<p>            <img src=\\\"https://omo-oss-image.thefastimg.com/portal-saas/new2022081216381638273/cms/image/a03ee9df-7d85-494f-a8f0-97cde458c9ea.jpg\\\" alt=\\\"图片\\\" style=\\\"width: 300px; height: 200px;\\\" /></p>\\n<p>        </div></p>\\n<p>    - 预计游玩时长：3小时</p>\\n<p>- **午餐**：</p>\\n<p>  - **湖口糟鱼鄱阳湖鲜**</p>\\n<p>    - 描述：鄱阳湖特色美食，鲜美可口。</p>\\n<p>        <div style=\\\"text-align: center;\\\"></p>\\n<p>            <img src=\\\"https://so1.360tres.com/t016de331d5bea3f19f.jpg\\\" alt=\\\"图片\\\" style=\\\"width: 300px; height: 200px;\\\" /></p>\\n<p>        </div></p>\\n<p>- **下午**：</p>\\n<p>  - **鄱阳湖**</p>\\n<p>    - 描述：中国最大的淡水湖，地理位置独特，生态系统丰富。</p>\\n<p>        <div style=\\\"text-align: center;\\\"></p>\\n<p>            <img src=\\\"https://so1.360tres.com/t016002ff9466d8816b.jpg\\\" alt=\\\"图片\\\" style=\\\"width: 300px; height: 200px;\\\" /></p>\\n<p>        </div></p>\\n<p>    - 预计游玩时长：2小时</p>\\n<p>- **晚餐**：</p>\\n<p>  - **特色米制品**</p>\\n<p>    - 描述：Q弹多吃法，现蒸现吃或干炒都美味。</p>\\n<p>        <div style=\\\"text-align: center;\\\"></p>\\n<p>            <img src=\\\"https://tr-osdcp.qunarzz.com/tr-osd-tr-manager/img/47c3c896b411b363cd7c059cccb76511.jpg_1000x1000x90_bbdd4c25.jpg\\\" alt=\\\"图片\\\" style=\\\"width: 300px; height: 200px;\\\" /></p>\\n<p>        </div></p>\\n<p>- **住宿**：鄱阳县城内酒店</p>\\n<p>### Day2:</p>\\n<p>- **早餐**：</p>\\n<p>  - **上饶烤鸡腿**</p>\\n<p>- **上午**：</p>\\n<p>  - **望仙谷**</p>\\n<p>    - 描述：上饶市网红景点之一，风景优美，适合拍照打卡。</p>\\n<p>        <div style=\\\"text-align: center;\\\"></p>\\n<p>            <img src=\\\"https://gd-hbimg.huaban.com/3682349276a5b3915fb19a0a875c4865bdddaa4a147e8f-xjD40C_fw658\\\" alt=\\\"图片\\\" style=\\\"width: 300px; height: 200px;\\\" /></p>\\n<p>        </div></p>\\n<p>    - 预计游玩时长：2.5小时</p>\\n<p>- **午餐**：</p>\\n<p>  - **湖口糟鱼鄱阳湖鲜**</p>\\n<p>- **下午**：</p>\\n<p>  - **三清山**</p>\\n<p>    - 描述：道教名山，云海缭绕、奇峰怪石，宛如人间仙境。</p>\\n<p>        <div style=\\\"text-align: center;\\\"></p>\\n<p>            <img src=\\\"http://www.sqsfjq.com/Data/Uploads/image/news/2022-10-26/6358b09089efa.jpeg\\\" alt=\\\"图片\\\" style=\\\"width: 300px; height: 200px;\\\" /></p>\\n<p>        </div></p>\\n<p>    - 预计游玩时长：4小时</p>\\n<p>- **晚餐**：</p>\\n<p>  - **上饶烤鸡腿**</p>\\n<p>- **住宿**：三清山附近酒店</p>\\n<p>### Day3:</p>\\n<p>- **早餐**：</p>\\n<p>  - **上饶烤鸡腿**</p>\\n<p>- **上午**：</p>\\n<p>  - **婺源篁岭景区**</p>\\n<p>    - 描述：著名旅游景点，以丰富的人文历史和自然风光著称。</p>\\n<p>        <div style=\\\"text-align: center;\\\"></p>\\n<p>            <img src=\\\"https://hellorfimg.zcool.cn/provider_image/large/2237545267.jpg\\\" alt=\\\"图片\\\" style=\\\"width: 300px; height: 200px;\\\" /></p>\\n<p>        </div></p>\\n<p>    - 预计游玩时长：3小时</p>\\n<p>- **午餐**：</p>\\n<p>  - **湖口糟鱼鄱阳湖鲜**</p>\\n<p>- **下午**：</p>\\n<p>  - **李坑景区**</p>\\n<p>    - 描述：上饶著名景点，保留了较为完整的古村落风貌。</p>\\n<p>        <div style=\\\"text-align: center;\\\"></p>\\n<p>            <img src=\\\"http://dimg08.c-ctrip.com/images/100k0r000000h19y35048_R_800_10000_Q90.jpg?proc=autoorient\\\" alt=\\\"图片\\\" style=\\\"width: 300px; height: 200px;\\\" /></p>\\n<p>        </div></p>\\n<p>    - 预计游玩时长：2小时</p>\\n<p>- **晚餐**：</p>\\n<p>  - **特色米制品**</p>\\n<p>- **返程**：返回出发地</p>\\n<p>此行程安排了从自然风光到人文历史的全面体验，希望能让您的旅行既轻松又充实。祝您旅途愉快！</p>\\n</div>\\n<h2>景点推荐</h2>\\n<div class=\\\"card-container\\\">\\n\\n            <div class=\\\"card\\\">\\n            <div class=\\\"card-image\\\">\\n                <img src=\\\"https://omo-oss-image.thefastimg.com/portal-saas/new2022081216381638273/cms/image/a03ee9df-7d85-494f-a8f0-97cde458c9ea.jpg\\\" alt=\\\"鄱阳湖国家湿地公园\\\" />\\n            </div>\\n            <div class=\\\"card-content\\\">\\n                <h3>鄱阳湖国家湿地公园</h3>\\n                <p><strong>距离:</strong> </p>\\n                <p>位于江西省东北部的鄱阳县境内，占地面积36285公顷，分布范围广泛，地理构造独特，属于国家4A级景区。</p>\\n            </div>\\n            </div>\\n            \\n\\n            <div class=\\\"card\\\">\\n            <div class=\\\"card-image\\\">\\n                <img src=\\\"https://gd-hbimg.huaban.com/3682349276a5b3915fb19a0a875c4865bdddaa4a147e8f-xjD40C_fw658\\\" alt=\\\"望仙谷\\\" />\\n            </div>\\n            <div class=\\\"card-content\\\">\\n                <h3>望仙谷</h3>\\n                <p><strong>距离:</strong> </p>\\n                <p>上饶市网红景点之一，风景优美，适合拍照打卡。</p>\\n            </div>\\n            </div>\\n            \\n\\n            <div class=\\\"card\\\">\\n            <div class=\\\"card-image\\\">\\n                <img src=\\\"http://www.sqsfjq.com/Data/Uploads/image/news/2022-10-26/6358b09089efa.jpeg\\\" alt=\\\"三清山\\\" />\\n            </div>\\n            <div class=\\\"card-content\\\">\\n                <h3>三清山</h3>\\n                <p><strong>距离:</strong> </p>\\n                <p>道教名山，云海缭绕、奇峰怪石，宛如人间仙境。</p>\\n            </div>\\n            </div>\\n            \\n\\n            <div class=\\\"card\\\">\\n            <div class=\\\"card-image\\\">\\n                <img src=\\\"https://hellorfimg.zcool.cn/provider_image/large/2237545267.jpg\\\" alt=\\\"婺源篁岭景区\\\" />\\n            </div>\\n            <div class=\\\"card-content\\\">\\n                <h3>婺源篁岭景区</h3>\\n                <p><strong>距离:</strong> </p>\\n                <p>著名旅游景点，以丰富的人文历史和自然风光著称。</p>\\n            </div>\\n            </div>\\n            \\n\\n            <div class=\\\"card\\\">\\n            <div class=\\\"card-image\\\">\\n                <img src=\\\"http://dimg08.c-ctrip.com/images/100k0r000000h19y35048_R_800_10000_Q90.jpg?proc=autoorient\\\" alt=\\\"李坑景区\\\" />\\n            </div>\\n            <div class=\\\"card-content\\\">\\n                <h3>李坑景区</h3>\\n                <p><strong>距离:</strong> </p>\\n                <p>上饶著名景点，保留了较为完整的古村落风貌。</p>\\n            </div>\\n            </div>\\n            \\n\\n            <div class=\\\"card\\\">\\n            <div class=\\\"card-image\\\">\\n                <img src=\\\"https://hellorfimg.zcool.cn/provider_image/large/2237718418.jpg\\\" alt=\\\"婺源篁嶺\\\" />\\n            </div>\\n            <div class=\\\"card-content\\\">\\n                <h3>婺源篁嶺</h3>\\n                <p><strong>距离:</strong> </p>\\n                <p>婺源的一处著名景点，以春季油菜花和秋季晒秋习俗闻名。</p>\\n            </div>\\n            </div>\\n            \\n\\n            <div class=\\\"card\\\">\\n            <div class=\\\"card-image\\\">\\n                <img src=\\\"https://so1.360tres.com/t016002ff9466d8816b.jpg\\\" alt=\\\"鄱阳湖\\\" />\\n            </div>\\n            <div class=\\\"card-content\\\">\\n                <h3>鄱阳湖</h3>\\n                <p><strong>距离:</strong> </p>\\n                <p>中国最大的淡水湖，地理位置独特，生态系统丰富。</p>\\n            </div>\\n            </div>\\n            \\n\\n            <div class=\\\"card\\\">\\n            <div class=\\\"card-image\\\">\\n                <img src=\\\"https://so1.360tres.com/t0180da5ee6a3017947.jpg\\\" alt=\\\"九江市\\\" />\\n            </div>\\n            <div class=\\\"card-content\\\">\\n                <h3>九江市</h3>\\n                <p><strong>距离:</strong> </p>\\n                <p>江西省下辖地级市，历史文化和自然风光丰富。</p>\\n            </div>\\n            </div>\\n            \\n\\n            <div class=\\\"card\\\">\\n            <div class=\\\"card-image\\\">\\n                <img src=\\\"http://d.51240.com/map/weixing/10/pn/poyangzhen.jpg\\\" alt=\\\"庐山\\\" />\\n            </div>\\n            <div class=\\\"card-content\\\">\\n                <h3>庐山</h3>\\n                <p><strong>距离:</strong> </p>\\n                <p>著名的风景名胜区，以秀美的山水和历史文化闻名。</p>\\n            </div>\\n            </div>\\n            \\n\\n            <div class=\\\"card\\\">\\n            <div class=\\\"card-image\\\">\\n                <img src=\\\"https://pic2.zhimg.com/v2-3d8c9e9e3ecc087b0f0c6f53d0e26541_r.jpg\\\" alt=\\\"庐山西海风景名胜区\\\" />\\n            </div>\\n            <div class=\\\"card-content\\\">\\n                <h3>庐山西海风景名胜区</h3>\\n                <p><strong>距离:</strong> </p>\\n                <p>位于江西省九江市庐山市，是一处集山水风光和休闲度假为一体的综合旅游区。</p>\\n            </div>\\n            </div>\\n            \\n</div>\\n<h2>美食推荐</h2>\\n<div class=\\\"card-container\\\">\\n\\n            <div class=\\\"card\\\">\\n            <div class=\\\"card-image\\\">\\n                <img src=\\\"https://tr-osdcp.qunarzz.com/tr-osd-tr-manager/img/47c3c896b411b363cd7c059cccb76511.jpg_1000x1000x90_bbdd4c25.jpg\\\" alt=\\\"上饶烤鸡腿\\\" />\\n            </div>\\n            <div class=\\\"card-content\\\">\\n                <h3>上饶烤鸡腿</h3>\\n                <p>外皮酥脆肉質鮮嫩，是上饒必吃美食。</p>\\n            </div>\\n            </div>\\n            \\n\\n            <div class=\\\"card\\\">\\n            <div class=\\\"card-image\\\">\\n                <img src=\\\"https://so1.360tres.com/t016de331d5bea3f19f.jpg\\\" alt=\\\"湖口糟鱼鄱阳湖鲜\\\" />\\n            </div>\\n            <div class=\\\"card-content\\\">\\n                <h3>湖口糟鱼鄱阳湖鲜</h3>\\n                <p>鄱阳湖特色美食，鲜美可口。</p>\\n            </div>\\n            </div>\\n            \\n\\n            <div class=\\\"card\\\">\\n            <div class=\\\"card-image\\\">\\n                <img src=\\\"https://tr-osdcp.qunarzz.com/tr-osd-tr-manager/img/47c3c896b411b363cd7c059cccb76511.jpg_1000x1000x90_bbdd4c25.jpg\\\" alt=\\\"特色米制品\\\" />\\n            </div>\\n            <div class=\\\"card-content\\\">\\n                <h3>特色米制品</h3>\\n                <p>Q弹多吃法，现蒸现吃或干炒都美味。</p>\\n            </div>\\n            </div>\\n            \\n</div>\\n</body></html>\"\n",
      "}\n"
     ]
    }
   ],
   "source": [
    "import requests\n",
    "import json\n",
    "\n",
    "# API端点\n",
    "url = \"http://localhost:5004/generate_itinerary_html\"\n",
    "\n",
    "# 请求数据\n",
    "data = {\n",
    "    \"city\": \"上饶鄱阳\",\n",
    "    \"days\": 3\n",
    "}\n",
    "\n",
    "# 发送POST请求\n",
    "try:\n",
    "    response = requests.post(url, json=data)\n",
    "    \n",
    "    # 检查响应状态\n",
    "    if response.status_code == 200:\n",
    "        result = response.json()\n",
    "        # print(\"获取到的旅游计划：\")\n",
    "        print(json.dumps(result, ensure_ascii=False, indent=2))\n",
    "    else:\n",
    "        print(f\"请求失败: {response.status_code}\")\n",
    "        print(f\"错误信息: {response.text}\")\n",
    "        \n",
    "except requests.exceptions.RequestException as e:\n",
    "    print(f\"发送请求时发生错误: {e}\")"
   ]
  },
  {
   "cell_type": "code",
   "execution_count": null,
   "metadata": {},
   "outputs": [],
   "source": []
  }
 ],
 "metadata": {
  "language_info": {
   "name": "python"
  }
 },
 "nbformat": 4,
 "nbformat_minor": 2
}
